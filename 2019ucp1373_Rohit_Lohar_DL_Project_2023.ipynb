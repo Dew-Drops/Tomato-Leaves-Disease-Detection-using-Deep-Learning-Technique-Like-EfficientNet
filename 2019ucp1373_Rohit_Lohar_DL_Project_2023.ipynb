{
  "cells": [
    {
      "cell_type": "markdown",
      "source": [
        "#**Tomato Leaves Disease Detection using Deep Learning Technique Like EfficientNet**"
      ],
      "metadata": {
        "id": "DNTjLqiwf26y"
      }
    },
    {
      "cell_type": "markdown",
      "source": [
        "##**Connecting Google Drive with Google Colab because Dataset is there on Drive**"
      ],
      "metadata": {
        "id": "5FvRHBD0gKfS"
      }
    },
    {
      "cell_type": "code",
      "execution_count": 1,
      "metadata": {
        "colab": {
          "base_uri": "https://localhost:8080/"
        },
        "id": "eZ5QM9CqLHKv",
        "outputId": "e62d986a-63c9-4242-de76-8c9012c0ffdf"
      },
      "outputs": [
        {
          "output_type": "stream",
          "name": "stdout",
          "text": [
            "Mounted at /content/drive\n"
          ]
        }
      ],
      "source": [
        "from google.colab import drive\n",
        "drive.mount('/content/drive')"
      ]
    },
    {
      "cell_type": "markdown",
      "source": [
        "##**Checking the GPU Details**"
      ],
      "metadata": {
        "id": "Zc-dgWtcgWa0"
      }
    },
    {
      "cell_type": "code",
      "source": [
        "!nvidia-smi"
      ],
      "metadata": {
        "colab": {
          "base_uri": "https://localhost:8080/"
        },
        "id": "HIv_XLZkL0ST",
        "outputId": "bfed47c5-6978-443a-aa35-aa3078c0a796"
      },
      "execution_count": 2,
      "outputs": [
        {
          "output_type": "stream",
          "name": "stdout",
          "text": [
            "Mon Apr 17 09:14:38 2023       \n",
            "+-----------------------------------------------------------------------------+\n",
            "| NVIDIA-SMI 525.85.12    Driver Version: 525.85.12    CUDA Version: 12.0     |\n",
            "|-------------------------------+----------------------+----------------------+\n",
            "| GPU  Name        Persistence-M| Bus-Id        Disp.A | Volatile Uncorr. ECC |\n",
            "| Fan  Temp  Perf  Pwr:Usage/Cap|         Memory-Usage | GPU-Util  Compute M. |\n",
            "|                               |                      |               MIG M. |\n",
            "|===============================+======================+======================|\n",
            "|   0  Tesla T4            Off  | 00000000:00:04.0 Off |                    0 |\n",
            "| N/A   49C    P8    10W /  70W |      0MiB / 15360MiB |      0%      Default |\n",
            "|                               |                      |                  N/A |\n",
            "+-------------------------------+----------------------+----------------------+\n",
            "                                                                               \n",
            "+-----------------------------------------------------------------------------+\n",
            "| Processes:                                                                  |\n",
            "|  GPU   GI   CI        PID   Type   Process name                  GPU Memory |\n",
            "|        ID   ID                                                   Usage      |\n",
            "|=============================================================================|\n",
            "|  No running processes found                                                 |\n",
            "+-----------------------------------------------------------------------------+\n"
          ]
        }
      ]
    },
    {
      "cell_type": "code",
      "execution_count": null,
      "metadata": {
        "id": "eYSY1pAmgLVN"
      },
      "outputs": [],
      "source": [
        "# from tensorflow.compat.v1 import ConfigProto\n",
        "# from tensorflow.compat.v1 import InteractiveSession\n",
        "# config = ConfigProto()\n",
        "# config.gpu_options.per_process_gpu_memory_fraction = 0.9\n",
        "# config.gpu_options.allow_growth = True\n",
        "# session = InteractiveSession(config=config)"
      ]
    },
    {
      "cell_type": "markdown",
      "source": [
        "#**Importing Required Modules**"
      ],
      "metadata": {
        "id": "ctMYOCoCgi1e"
      }
    },
    {
      "cell_type": "code",
      "execution_count": 3,
      "metadata": {
        "id": "cy6sSMuBKd2C"
      },
      "outputs": [],
      "source": [
        "# Import Module\n",
        "import os\n",
        "import numpy as np\n",
        "import matplotlib.pyplot as plt\n",
        "import tensorflow as tf\n",
        "from tensorflow import keras\n",
        "from keras.preprocessing import image\n",
        "from keras.preprocessing.image import ImageDataGenerator\n",
        "from tensorflow.keras.applications import EfficientNetB0\n",
        "from tensorflow.keras.applications.efficientnet import preprocess_input\n",
        "from sklearn.metrics import precision_score, recall_score, f1_score, accuracy_score"
      ]
    },
    {
      "cell_type": "code",
      "execution_count": 4,
      "metadata": {
        "id": "D7AT01JfKd2H"
      },
      "outputs": [],
      "source": [
        "batch_size = 64\n",
        "IMG_WIDTH = 224\n",
        "IMG_HEIGHT = 224\n",
        "CHANNELS = 3\n",
        "CLASSES = 10\n",
        "train_dir = '/content/drive/MyDrive/tomato/train/'\n",
        "validation_dir = '/content/drive/MyDrive/tomato/val/'"
      ]
    },
    {
      "cell_type": "markdown",
      "source": [
        "##**Importing Images from Dataset with Certain Transformation before feeding for Training**"
      ],
      "metadata": {
        "id": "5TvkKYTqg2Sh"
      }
    },
    {
      "cell_type": "code",
      "execution_count": 5,
      "metadata": {
        "id": "Bxv2yx3CKd2I"
      },
      "outputs": [],
      "source": [
        "# Use the Image Data Generator to import the images from the dataset\n",
        "from tensorflow.keras.preprocessing.image import ImageDataGenerator\n",
        "train_datagen = ImageDataGenerator(preprocessing_function=preprocess_input,\n",
        "                                    rescale = 1./255,\n",
        "                                   shear_range = 0.2,\n",
        "                                   zoom_range = 0.2,\n",
        "                                   horizontal_flip = True)\n",
        "validation_datagen = image.ImageDataGenerator(preprocessing_function=preprocess_input,\n",
        "                                              rescale = 1./255)"
      ]
    },
    {
      "cell_type": "code",
      "execution_count": 6,
      "metadata": {
        "colab": {
          "base_uri": "https://localhost:8080/"
        },
        "id": "9ZHrSjJnKd2J",
        "outputId": "6fe3ef9b-e8c3-4249-d282-3af0f6d031e1"
      },
      "outputs": [
        {
          "output_type": "stream",
          "name": "stdout",
          "text": [
            "Found 10000 images belonging to 10 classes.\n"
          ]
        }
      ],
      "source": [
        "# Load Traning Data\n",
        "train_generator = train_datagen.flow_from_directory(\n",
        "            train_dir,\n",
        "            target_size=(IMG_WIDTH,IMG_HEIGHT),\n",
        "            batch_size=batch_size,\n",
        "            class_mode='categorical',\n",
        "            shuffle=True\n",
        "        )"
      ]
    },
    {
      "cell_type": "code",
      "execution_count": 7,
      "metadata": {
        "colab": {
          "base_uri": "https://localhost:8080/"
        },
        "id": "WWEm__IqKd2K",
        "outputId": "c2cae694-cbda-490b-cb3a-b6b9cc5996bb"
      },
      "outputs": [
        {
          "output_type": "stream",
          "name": "stdout",
          "text": [
            "Found 1000 images belonging to 10 classes.\n"
          ]
        }
      ],
      "source": [
        "# Load Validation Data\n",
        "validation_generator = validation_datagen.flow_from_directory(\n",
        "            validation_dir,\n",
        "            target_size=(IMG_WIDTH,IMG_HEIGHT),\n",
        "            batch_size=batch_size,\n",
        "            class_mode='categorical',\n",
        "            shuffle=False\n",
        "        )"
      ]
    },
    {
      "cell_type": "markdown",
      "source": [
        "##**Model Efficientnet B0 is imported from Tensorflow Library and It is fitted by the train data and train and test accuracy is obtained**"
      ],
      "metadata": {
        "id": "s7EvS4ZBi0F4"
      }
    },
    {
      "cell_type": "code",
      "execution_count": 8,
      "metadata": {
        "colab": {
          "base_uri": "https://localhost:8080/"
        },
        "id": "kU4KEPfJKd2L",
        "outputId": "eb10434b-3840-4fd6-f9f6-e2805988fdb7"
      },
      "outputs": [
        {
          "output_type": "stream",
          "name": "stdout",
          "text": [
            "Default GPU Device: /device:GPU:0\n",
            "Model: \"model\"\n",
            "_________________________________________________________________\n",
            " Layer (type)                Output Shape              Param #   \n",
            "=================================================================\n",
            " input_1 (InputLayer)        [(None, 224, 224, 3)]     0         \n",
            "                                                                 \n",
            " efficientnetb0 (Functional)  (None, 10)               4062381   \n",
            "                                                                 \n",
            "=================================================================\n",
            "Total params: 4,062,381\n",
            "Trainable params: 4,020,358\n",
            "Non-trainable params: 42,023\n",
            "_________________________________________________________________\n"
          ]
        },
        {
          "output_type": "stream",
          "name": "stderr",
          "text": [
            "<ipython-input-8-d85a73c7f247>:26: UserWarning: `Model.fit_generator` is deprecated and will be removed in a future version. Please use `Model.fit`, which supports generators.\n",
            "  history = model.fit_generator(train_generator,\n"
          ]
        },
        {
          "output_type": "stream",
          "name": "stdout",
          "text": [
            "Epoch 1/40\n",
            "156/156 [==============================] - 2392s 15s/step - loss: 2.1345 - accuracy: 0.3933 - val_loss: 3.0181 - val_accuracy: 0.1042\n",
            "Epoch 2/40\n",
            "156/156 [==============================] - 174s 1s/step - loss: 1.2966 - accuracy: 0.6215 - val_loss: 53.7587 - val_accuracy: 0.0625\n",
            "Epoch 3/40\n",
            "156/156 [==============================] - 199s 1s/step - loss: 0.8274 - accuracy: 0.7291 - val_loss: 20.8138 - val_accuracy: 0.0625\n",
            "Epoch 4/40\n",
            "156/156 [==============================] - 175s 1s/step - loss: 0.5982 - accuracy: 0.7995 - val_loss: 5.5757 - val_accuracy: 0.1583\n",
            "Epoch 5/40\n",
            "156/156 [==============================] - 172s 1s/step - loss: 0.4351 - accuracy: 0.8478 - val_loss: 4.1054 - val_accuracy: 0.3010\n",
            "Epoch 6/40\n",
            "156/156 [==============================] - 179s 1s/step - loss: 0.3454 - accuracy: 0.8812 - val_loss: 1.1182 - val_accuracy: 0.7281\n",
            "Epoch 7/40\n",
            "156/156 [==============================] - 184s 1s/step - loss: 0.4075 - accuracy: 0.8701 - val_loss: 2.1586 - val_accuracy: 0.5052\n",
            "Epoch 8/40\n",
            "156/156 [==============================] - 174s 1s/step - loss: 0.3140 - accuracy: 0.8930 - val_loss: 0.5483 - val_accuracy: 0.8250\n",
            "Epoch 9/40\n",
            "156/156 [==============================] - 170s 1s/step - loss: 0.2711 - accuracy: 0.9101 - val_loss: 4.3696 - val_accuracy: 0.3427\n",
            "Epoch 10/40\n",
            "156/156 [==============================] - 170s 1s/step - loss: 0.2488 - accuracy: 0.9171 - val_loss: 1.2539 - val_accuracy: 0.7000\n",
            "Epoch 11/40\n",
            "156/156 [==============================] - 172s 1s/step - loss: 0.1903 - accuracy: 0.9377 - val_loss: 0.3540 - val_accuracy: 0.8781\n",
            "Epoch 12/40\n",
            "156/156 [==============================] - 170s 1s/step - loss: 0.1667 - accuracy: 0.9455 - val_loss: 1.1677 - val_accuracy: 0.7177\n",
            "Epoch 13/40\n",
            "156/156 [==============================] - 171s 1s/step - loss: 0.1415 - accuracy: 0.9514 - val_loss: 0.6548 - val_accuracy: 0.7979\n",
            "Epoch 14/40\n",
            "156/156 [==============================] - 169s 1s/step - loss: 0.1629 - accuracy: 0.9444 - val_loss: 0.5710 - val_accuracy: 0.8208\n",
            "Epoch 15/40\n",
            "156/156 [==============================] - 169s 1s/step - loss: 0.1486 - accuracy: 0.9511 - val_loss: 0.5498 - val_accuracy: 0.8521\n",
            "Epoch 16/40\n",
            "156/156 [==============================] - 168s 1s/step - loss: 0.1324 - accuracy: 0.9545 - val_loss: 3.6920 - val_accuracy: 0.7229\n",
            "Epoch 17/40\n",
            "156/156 [==============================] - 169s 1s/step - loss: 0.1105 - accuracy: 0.9620 - val_loss: 2.2333 - val_accuracy: 0.6177\n",
            "Epoch 18/40\n",
            "156/156 [==============================] - 170s 1s/step - loss: 0.1131 - accuracy: 0.9611 - val_loss: 2.1763 - val_accuracy: 0.6052\n",
            "Epoch 19/40\n",
            "156/156 [==============================] - 170s 1s/step - loss: 0.1228 - accuracy: 0.9579 - val_loss: 1.3080 - val_accuracy: 0.7333\n",
            "Epoch 20/40\n",
            "156/156 [==============================] - 169s 1s/step - loss: 0.1003 - accuracy: 0.9648 - val_loss: 1.4027 - val_accuracy: 0.7167\n",
            "Epoch 21/40\n",
            "156/156 [==============================] - 173s 1s/step - loss: 0.1076 - accuracy: 0.9640 - val_loss: 19.9444 - val_accuracy: 0.1115\n",
            "Epoch 22/40\n",
            "156/156 [==============================] - 169s 1s/step - loss: 0.1517 - accuracy: 0.9533 - val_loss: 0.5775 - val_accuracy: 0.8594\n",
            "Epoch 23/40\n",
            "156/156 [==============================] - 168s 1s/step - loss: 0.1080 - accuracy: 0.9661 - val_loss: 1.7706 - val_accuracy: 0.6104\n",
            "Epoch 24/40\n",
            "156/156 [==============================] - 168s 1s/step - loss: 0.0862 - accuracy: 0.9720 - val_loss: 2.4344 - val_accuracy: 0.5802\n",
            "Epoch 25/40\n",
            "156/156 [==============================] - 167s 1s/step - loss: 0.0914 - accuracy: 0.9701 - val_loss: 1.8171 - val_accuracy: 0.6281\n",
            "Epoch 26/40\n",
            "156/156 [==============================] - 168s 1s/step - loss: 0.0623 - accuracy: 0.9790 - val_loss: 0.5307 - val_accuracy: 0.8656\n",
            "Epoch 27/40\n",
            "156/156 [==============================] - 168s 1s/step - loss: 0.0772 - accuracy: 0.9764 - val_loss: 6.9660 - val_accuracy: 0.2802\n",
            "Epoch 28/40\n",
            "156/156 [==============================] - 168s 1s/step - loss: 0.0715 - accuracy: 0.9781 - val_loss: 1.0495 - val_accuracy: 0.7792\n",
            "Epoch 29/40\n",
            "156/156 [==============================] - 168s 1s/step - loss: 0.0712 - accuracy: 0.9771 - val_loss: 0.1863 - val_accuracy: 0.9385\n",
            "Epoch 30/40\n",
            "156/156 [==============================] - 168s 1s/step - loss: 0.0680 - accuracy: 0.9771 - val_loss: 0.4175 - val_accuracy: 0.8885\n",
            "Epoch 31/40\n",
            "156/156 [==============================] - 172s 1s/step - loss: 0.0535 - accuracy: 0.9836 - val_loss: 1.2609 - val_accuracy: 0.7427\n",
            "Epoch 32/40\n",
            "156/156 [==============================] - 177s 1s/step - loss: 0.0579 - accuracy: 0.9816 - val_loss: 3.9647 - val_accuracy: 0.4563\n",
            "Epoch 33/40\n",
            "156/156 [==============================] - 171s 1s/step - loss: 0.0579 - accuracy: 0.9804 - val_loss: 2.1794 - val_accuracy: 0.6260\n",
            "Epoch 34/40\n",
            "156/156 [==============================] - 179s 1s/step - loss: 0.0525 - accuracy: 0.9840 - val_loss: 1.0620 - val_accuracy: 0.7896\n",
            "Epoch 35/40\n",
            "156/156 [==============================] - 172s 1s/step - loss: 0.0440 - accuracy: 0.9831 - val_loss: 3.3979 - val_accuracy: 0.5094\n",
            "Epoch 36/40\n",
            "156/156 [==============================] - 172s 1s/step - loss: 0.1432 - accuracy: 0.9592 - val_loss: 2.7151 - val_accuracy: 0.5417\n",
            "Epoch 37/40\n",
            "156/156 [==============================] - 173s 1s/step - loss: 0.0993 - accuracy: 0.9701 - val_loss: 2.1220 - val_accuracy: 0.5906\n",
            "Epoch 38/40\n",
            "156/156 [==============================] - 170s 1s/step - loss: 0.0944 - accuracy: 0.9714 - val_loss: 0.3217 - val_accuracy: 0.8948\n",
            "Epoch 39/40\n",
            "156/156 [==============================] - 167s 1s/step - loss: 0.0527 - accuracy: 0.9817 - val_loss: 1.8174 - val_accuracy: 0.6469\n",
            "Epoch 40/40\n",
            "156/156 [==============================] - 168s 1s/step - loss: 0.0454 - accuracy: 0.9839 - val_loss: 0.2738 - val_accuracy: 0.9229\n"
          ]
        },
        {
          "output_type": "stream",
          "name": "stderr",
          "text": [
            "<ipython-input-8-d85a73c7f247>:32: UserWarning: `Model.evaluate_generator` is deprecated and will be removed in a future version. Please use `Model.evaluate`, which supports generators.\n",
            "  test_loss, test_acc = model.evaluate_generator(validation_generator, steps=STEP_SIZE_VALID)\n"
          ]
        },
        {
          "output_type": "stream",
          "name": "stdout",
          "text": [
            "Test loss: 0.2737588584423065\n",
            "Test accuracy: 0.9229166507720947\n"
          ]
        }
      ],
      "source": [
        "from tensorflow.keras import layers\n",
        "from tensorflow.keras.applications import EfficientNetB0\n",
        "\n",
        "NUM_CLASSES = 10\n",
        "IMG_SIZE = 224\n",
        "size = (IMG_SIZE, IMG_SIZE)\n",
        "inputs = layers.Input(shape=(IMG_SIZE, IMG_SIZE, 3))\n",
        "if tf.test.gpu_device_name():\n",
        "    print('Default GPU Device: {}'.format(tf.test.gpu_device_name()))\n",
        "else:\n",
        "    print(\"Please install GPU version of TF\")\n",
        "device_name = tf.test.gpu_device_name()\n",
        "\n",
        "if device_name != '/device:GPU:0':\n",
        "    device_name = '/device:CPU:0'\n",
        "\n",
        "# Build your TensorFlow model and specify the device\n",
        "with tf.device(device_name):\n",
        "    outputs = EfficientNetB0(include_top=True, weights=None, classes=NUM_CLASSES)(inputs)\n",
        "    model = tf.keras.Model(inputs, outputs)\n",
        "    model.compile(optimizer=\"adam\", loss=\"categorical_crossentropy\", metrics=[\"accuracy\"] )\n",
        "    model.summary()\n",
        "    STEP_SIZE_TRAIN=train_generator.n // train_generator.batch_size\n",
        "    STEP_SIZE_VALID=validation_generator.n  // validation_generator.batch_size\n",
        "    epochs = 40\n",
        "    history = model.fit_generator(train_generator,\n",
        "                                steps_per_epoch=STEP_SIZE_TRAIN,\n",
        "                                epochs=epochs,\n",
        "                                \n",
        "                                validation_data=validation_generator,\n",
        "                                validation_steps=STEP_SIZE_VALID)\n",
        "    test_loss, test_acc = model.evaluate_generator(validation_generator, steps=STEP_SIZE_VALID)\n",
        "    print('Test loss:', test_loss)\n",
        "    print('Test accuracy:', test_acc)"
      ]
    },
    {
      "cell_type": "markdown",
      "source": [
        "##**Performance Evaluation like  Accuracy,Precision,Recall,F1 Score**"
      ],
      "metadata": {
        "id": "65FmvDW3hqaq"
      }
    },
    {
      "cell_type": "code",
      "source": [
        "# Generate predictions for the validation set\n",
        "y_pred = model.predict_generator(validation_generator, steps=STEP_SIZE_VALID)\n",
        "y_pred = np.argmax(y_pred, axis=1)\n",
        "y_pred.shape\n",
        "# Get true labels for the validation set\n",
        "y_true = validation_generator.classes\n",
        "y_true=y_true[0:960]\n",
        "# Calculate precision, recall, f1-score, and accuracy\n",
        "precision = precision_score(y_true, y_pred, average='weighted')\n",
        "recall = recall_score(y_true, y_pred, average='weighted')\n",
        "f1 = f1_score(y_true, y_pred, average='weighted')\n",
        "accuracy = accuracy_score(y_true, y_pred)\n",
        "\n",
        "# Print the results\n",
        "print(\"Precision: {:.3f}\".format(precision))\n",
        "print(\"Recall: {:.3f}\".format(recall))\n",
        "print(\"F1-score: {:.3f}\".format(f1))\n",
        "print(\"Accuracy: {:.3f}\".format(accuracy))"
      ],
      "metadata": {
        "id": "KVXo0j1chn2I",
        "colab": {
          "base_uri": "https://localhost:8080/"
        },
        "outputId": "d3f05583-7e69-47a8-ba51-cf3c0813d0db"
      },
      "execution_count": 23,
      "outputs": [
        {
          "output_type": "stream",
          "name": "stderr",
          "text": [
            "<ipython-input-23-df24796791b7>:2: UserWarning: `Model.predict_generator` is deprecated and will be removed in a future version. Please use `Model.predict`, which supports generators.\n",
            "  y_pred = model.predict_generator(validation_generator, steps=STEP_SIZE_VALID)\n"
          ]
        },
        {
          "output_type": "stream",
          "name": "stdout",
          "text": [
            "Precision: 0.935\n",
            "Recall: 0.923\n",
            "F1-score: 0.922\n",
            "Accuracy: 0.923\n"
          ]
        }
      ]
    },
    {
      "cell_type": "code",
      "source": [
        "confusion_matrix = tf.math.confusion_matrix(labels=y_true, predictions=y_pred)\n",
        "print(validation_generator.class_indices)\n",
        "confusion_matrix"
      ],
      "metadata": {
        "colab": {
          "base_uri": "https://localhost:8080/"
        },
        "id": "0aZeviKOHv1f",
        "outputId": "528451af-8e30-409c-bce6-fee325023b6f"
      },
      "execution_count": 26,
      "outputs": [
        {
          "output_type": "stream",
          "name": "stdout",
          "text": [
            "{'Tomato___Bacterial_spot': 0, 'Tomato___Early_blight': 1, 'Tomato___Late_blight': 2, 'Tomato___Leaf_Mold': 3, 'Tomato___Septoria_leaf_spot': 4, 'Tomato___Spider_mites Two-spotted_spider_mite': 5, 'Tomato___Target_Spot': 6, 'Tomato___Tomato_Yellow_Leaf_Curl_Virus': 7, 'Tomato___Tomato_mosaic_virus': 8, 'Tomato___healthy': 9}\n"
          ]
        },
        {
          "output_type": "execute_result",
          "data": {
            "text/plain": [
              "<tf.Tensor: shape=(10, 10), dtype=int32, numpy=\n",
              "array([[ 95,   1,   0,   0,   1,   0,   3,   0,   0,   0],\n",
              "       [  1,  84,   1,   0,   5,   0,   8,   0,   1,   0],\n",
              "       [  0,   2,  97,   1,   0,   0,   0,   0,   0,   0],\n",
              "       [  0,   1,   0,  87,   7,   0,   0,   0,   5,   0],\n",
              "       [  0,   0,   0,   0, 100,   0,   0,   0,   0,   0],\n",
              "       [  0,   0,   0,   1,   0,  65,  27,   0,   5,   2],\n",
              "       [  0,   0,   0,   0,   0,   0, 100,   0,   0,   0],\n",
              "       [  1,   0,   0,   0,   0,   1,   0,  98,   0,   0],\n",
              "       [  0,   0,   0,   0,   0,   0,   0,   0, 100,   0],\n",
              "       [  0,   0,   0,   0,   0,   0,   0,   0,   0,  60]], dtype=int32)>"
            ]
          },
          "metadata": {},
          "execution_count": 26
        }
      ]
    },
    {
      "cell_type": "markdown",
      "source": [
        "##**Ploting Loss and Accuracy Curve for training and validation data**"
      ],
      "metadata": {
        "id": "6HZrGZIoh12u"
      }
    },
    {
      "cell_type": "code",
      "source": [
        "plt.plot(history.history['loss'], label='train loss')\n",
        "plt.plot(history.history['val_loss'], label='val loss')\n",
        "plt.legend()\n",
        "plt.show()\n",
        "plt.savefig('LossVal_loss')\n",
        "\n",
        "# plot the accuracy\n",
        "plt.plot(history.history['accuracy'], label='train acc')\n",
        "plt.plot(history.history['val_accuracy'], label='val acc')\n",
        "plt.legend()\n",
        "plt.show()\n",
        "plt.savefig('AccVal_acc')"
      ],
      "metadata": {
        "id": "YtbwnrE0gkbR",
        "colab": {
          "base_uri": "https://localhost:8080/",
          "height": 860
        },
        "outputId": "59a8f04f-ecf0-44bf-ffca-e626e4e4f2cb"
      },
      "execution_count": 27,
      "outputs": [
        {
          "output_type": "display_data",
          "data": {
            "text/plain": [
              "<Figure size 640x480 with 1 Axes>"
            ],
            "image/png": "[encoded data removed]"
          },
          "metadata": {}
        },
        {
          "output_type": "display_data",
          "data": {
            "text/plain": [
              "<Figure size 640x480 with 1 Axes>"
            ],
            "image/png": "[encoded data removed]"
          },
          "metadata": {}
        },
        {
          "output_type": "display_data",
          "data": {
            "text/plain": [
              "<Figure size 640x480 with 0 Axes>"
            ]
          },
          "metadata": {}
        }
      ]
    },
    {
      "cell_type": "markdown",
      "source": [
        "##**Saving the model**"
      ],
      "metadata": {
        "id": "bMwHA-5QiBCj"
      }
    },
    {
      "cell_type": "code",
      "execution_count": 28,
      "metadata": {
        "id": "rRuRuFyQwo2D"
      },
      "outputs": [],
      "source": [
        "from tensorflow.keras.models import load_model\n",
        "model.save('model_efficientnetb0.h5')"
      ]
    },
    {
      "cell_type": "markdown",
      "source": [
        "#**To load the EfficientNetB0 model in TensorFlow**"
      ],
      "metadata": {
        "id": "sesDALxhJlaT"
      }
    },
    {
      "cell_type": "code",
      "source": [
        "import tensorflow as tf\n",
        "# Load the saved model\n",
        "model = tf.keras.models.load_model('model_efficientnetb0.h5')\n",
        "# Print the model summary\n",
        "model.summary()\n"
      ],
      "metadata": {
        "id": "f3lCylyKJhnJ"
      },
      "execution_count": null,
      "outputs": []
    }
  ],
  "metadata": {
    "accelerator": "GPU",
    "colab": {
      "provenance": []
    },
    "gpuClass": "standard",
    "kernelspec": {
      "display_name": "Python 3",
      "language": "python",
      "name": "python3"
    },
    "language_info": {
      "codemirror_mode": {
        "name": "ipython",
        "version": 3
      },
      "file_extension": ".py",
      "mimetype": "text/x-python",
      "name": "python",
      "nbconvert_exporter": "python",
      "pygments_lexer": "ipython3",
      "version": "3.6.4"
    }
  },
  "nbformat": 4,
  "nbformat_minor": 0
}